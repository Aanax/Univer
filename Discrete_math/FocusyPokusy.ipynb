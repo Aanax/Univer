{
 "cells": [
  {
   "cell_type": "code",
   "execution_count": 31,
   "metadata": {
    "collapsed": true
   },
   "outputs": [],
   "source": [
    "import numpy as np"
   ]
  },
  {
   "cell_type": "code",
   "execution_count": null,
   "metadata": {
    "collapsed": true
   },
   "outputs": [],
   "source": []
  },
  {
   "cell_type": "code",
   "execution_count": 32,
   "metadata": {
    "collapsed": false
   },
   "outputs": [],
   "source": [
    "class Edge(object):\n",
    "    def __init__(self, u, v, c):\n",
    "        self.fromm = u\n",
    "        self.to = v\n",
    "        self.cap = c\n",
    "\n",
    "    def __repr__(self):\n",
    "        return \"%s -> %s\" % (self.fromm, self.to)"
   ]
  },
  {
   "cell_type": "code",
   "execution_count": 33,
   "metadata": {
    "collapsed": false
   },
   "outputs": [
    {
     "name": "stdout",
     "output_type": "stream",
     "text": [
      "(1, 2) -> (2, 1)\n"
     ]
    }
   ],
   "source": [
    "a = Edge((1,2),(2,1),2)\n",
    "print(a)"
   ]
  },
  {
   "cell_type": "code",
   "execution_count": 34,
   "metadata": {
    "collapsed": false
   },
   "outputs": [],
   "source": [
    "class FlowNetwork(object):\n",
    "    def  __init__(self):\n",
    "        \n",
    "        self.v_to_edges = {}\n",
    "        \n",
    "        self.flow = {}\n",
    "\n",
    "    def AddVertex(self, vertex):\n",
    "        \n",
    "        self.v_to_edges[vertex] = []\n",
    "\n",
    "    def GetEdges(self, v):\n",
    "        \n",
    "        return self.v_to_edges[v]\n",
    "\n",
    "    def AddEdge(self, u, v, cap = 0):\n",
    "        if u == v:\n",
    "            raise ValueError(\"u == v\")\n",
    "        \n",
    "        edge = Edge(u, v, cap)\n",
    "        redge = Edge(v, u, 0)\n",
    "        edge.redge = redge\n",
    "        redge.redge = edge\n",
    "        \n",
    "        self.v_to_edges[u].append(edge) #there\n",
    "        self.v_to_edges[v].append(redge) #back\n",
    "        \n",
    "        #intialize all flows to zero\n",
    "        self.flow[edge] = 0\n",
    "        self.flow[redge] = 0\n",
    "\n",
    "    def find_ways(self, source, target, path):\n",
    "        if source == target:\n",
    "            return path\n",
    "        for edge in self.GetEdges(source): #building path one by one First one from beginning then recursively further\n",
    "            k = edge.cap - self.flow[edge]\n",
    "            \n",
    "            if k > 0 and not (edge, k) in path:\n",
    "                result = self.find_ways(edge.to, target, path + [(edge, k)])\n",
    "                \n",
    "                if result != None:\n",
    "                    return result\n",
    "\n",
    "    def MaxFlow(self, source, target):\n",
    "        path = self.find_ways(source, target, [])\n",
    "\n",
    "        #        print('path after enter MaxFlow: %s' % path)\n",
    "        \n",
    "#        for key in self.flow:\n",
    " #           print ('%s:%s' % (key,self.flow[key]))\n",
    "            \n",
    " #       print ('-' * 20)\n",
    "        \n",
    "        while path != None:\n",
    "            flow = min(k for edge, k in path) #get min k\n",
    "            \n",
    "            for edge, k in path:\n",
    "                self.flow[edge] += flow\n",
    "                self.flow[edge.redge] -= flow\n",
    "                \n",
    "  #          for key in self.flow:\n",
    "  #              print ('%s:%s' % (key,self.flow[key]))\n",
    "                \n",
    "            path = self.find_ways(source, target, [])\n",
    "            \n",
    "   #         print ('path inside of while loop: %s' % path)\n",
    "        \n",
    "#        for key in self.flow:\n",
    "    #        print ('%s:%s' % (key,self.flow[key]))\n",
    "            \n",
    "        return sum(self.flow[edge] for edge in self.GetEdges(source))"
   ]
  },
  {
   "cell_type": "code",
   "execution_count": 35,
   "metadata": {
    "collapsed": true
   },
   "outputs": [],
   "source": [
    "graph = FlowNetwork()"
   ]
  },
  {
   "cell_type": "code",
   "execution_count": 36,
   "metadata": {
    "collapsed": true
   },
   "outputs": [],
   "source": [
    "import itertools"
   ]
  },
  {
   "cell_type": "code",
   "execution_count": 37,
   "metadata": {
    "collapsed": false
   },
   "outputs": [],
   "source": [
    "pe = itertools.combinations(range(27),4)"
   ]
  },
  {
   "cell_type": "code",
   "execution_count": null,
   "metadata": {
    "collapsed": false
   },
   "outputs": [],
   "source": []
  },
  {
   "cell_type": "code",
   "execution_count": 38,
   "metadata": {
    "collapsed": false
   },
   "outputs": [
    {
     "name": "stdout",
     "output_type": "stream",
     "text": [
      "17550\n"
     ]
    }
   ],
   "source": [
    "kk =0 \n",
    "for i in pe:\n",
    "    kk+=1\n",
    "    #print(i)\n",
    "print(kk)"
   ]
  },
  {
   "cell_type": "code",
   "execution_count": 39,
   "metadata": {
    "collapsed": false
   },
   "outputs": [
    {
     "data": {
      "text/plain": [
       "17550"
      ]
     },
     "execution_count": 39,
     "metadata": {},
     "output_type": "execute_result"
    }
   ],
   "source": [
    "27*26*25"
   ]
  },
  {
   "cell_type": "code",
   "execution_count": 40,
   "metadata": {
    "collapsed": true
   },
   "outputs": [],
   "source": [
    "pe = itertools.combinations(range(27),4)"
   ]
  },
  {
   "cell_type": "code",
   "execution_count": 41,
   "metadata": {
    "collapsed": true
   },
   "outputs": [],
   "source": [
    "triplets = itertools.combinations(range(27),3)"
   ]
  },
  {
   "cell_type": "code",
   "execution_count": 42,
   "metadata": {
    "collapsed": false
   },
   "outputs": [
    {
     "name": "stdout",
     "output_type": "stream",
     "text": [
      "17550\n"
     ]
    }
   ],
   "source": [
    "k=0\n",
    "for triplet in triplets:\n",
    "    for triplett in itertools.permutations(triplet):\n",
    "        k+=1\n",
    "print(k)"
   ]
  },
  {
   "cell_type": "code",
   "execution_count": 43,
   "metadata": {
    "collapsed": false
   },
   "outputs": [],
   "source": [
    "graph.AddVertex(\"source\")\n",
    "graph.AddVertex(\"final\")\n",
    "\n",
    "for quadron in pe:\n",
    "    graph.AddVertex(quadron)\n",
    "    graph.AddEdge(\"source\",quadron,1)\n",
    "    for triplet in itertools.combinations(quadron,3):\n",
    "        for triplett in itertools.permutations(triplet):\n",
    "            graph.AddVertex(triplett)\n",
    "            graph.AddEdge(quadron,triplett,1)\n",
    "            graph.AddEdge(triplett, \"final\",1)\n",
    "\n",
    "#graph.AddVertex(\"2\")\n",
    "#graph.AddVertex(\"3\")\n",
    "\n",
    "#graph.AddVertex(\"1a\")\n",
    "#graph.AddVertex(\"2a\")\n",
    "#graph.AddVertex(\"3a\")\n",
    "#for triplet in triplets:\n",
    "#    for triplett in itertools.permutations(triplet):\n",
    "#        graph.AddVertex(triplett)\n",
    "\n",
    "\n",
    "\n",
    "\n",
    "### NOW EDGES\n",
    "\n",
    "\n",
    "#graph.AddEdge(\"source\",\"1\",6)\n",
    "#graph.AddEdge(\"source\",\"2\",2)\n",
    "#graph.AddEdge(\"1\",\"2\",3)\n",
    "#graph.AddEdge(\"1\",\"final\",7)\n",
    "#graph.AddEdge(\"2\",\"final\",8)"
   ]
  },
  {
   "cell_type": "code",
   "execution_count": 27,
   "metadata": {
    "collapsed": false
   },
   "outputs": [],
   "source": [
    "#for name in [str(i+1) for i in range(3)]:\n",
    "#    print(name)\n",
    "#    graph.AddEdge(name,name+\"a\",1)"
   ]
  },
  {
   "cell_type": "code",
   "execution_count": 28,
   "metadata": {
    "collapsed": false
   },
   "outputs": [],
   "source": [
    "#for name in [str(i+1) for i in range(3)]:\n",
    "#    graph.AddEdge(\"source\",name,1)\n",
    "#    graph.AddEdge(name+\"a\",\"final\",1)\n",
    "    "
   ]
  },
  {
   "cell_type": "code",
   "execution_count": 29,
   "metadata": {
    "collapsed": false
   },
   "outputs": [],
   "source": [
    "#graph.v_to_edges"
   ]
  },
  {
   "cell_type": "code",
   "execution_count": 44,
   "metadata": {
    "collapsed": false
   },
   "outputs": [],
   "source": [
    "ress= graph.MaxFlow(\"source\",\"final\")"
   ]
  },
  {
   "cell_type": "code",
   "execution_count": null,
   "metadata": {
    "collapsed": false
   },
   "outputs": [],
   "source": [
    "#graph.v_to_edges"
   ]
  },
  {
   "cell_type": "raw",
   "metadata": {},
   "source": []
  },
  {
   "cell_type": "code",
   "execution_count": 46,
   "metadata": {
    "collapsed": true
   },
   "outputs": [],
   "source": [
    "k=0\n",
    "for i in graph.v_to_edges.values():\n",
    "    k+=len(i)\n"
   ]
  },
  {
   "cell_type": "code",
   "execution_count": 47,
   "metadata": {
    "collapsed": false
   },
   "outputs": [
    {
     "data": {
      "text/plain": [
       "912600"
      ]
     },
     "execution_count": 47,
     "metadata": {},
     "output_type": "execute_result"
    }
   ],
   "source": [
    "k"
   ]
  },
  {
   "cell_type": "code",
   "execution_count": null,
   "metadata": {
    "collapsed": false
   },
   "outputs": [],
   "source": [
    "#for i in ress:\n",
    "#    print(i)\n",
    "ress"
   ]
  },
  {
   "cell_type": "code",
   "execution_count": null,
   "metadata": {
    "collapsed": false
   },
   "outputs": [],
   "source": [
    "connections_to_quads = {}\n",
    "connections_to_triplets = {}\n",
    "for n,f in graph.flow.items():\n",
    "    if f > 0:\n",
    "        connections_to_quads[str(n).split(\" -> \")[1]] = str(n).split(\" -> \")[0]\n",
    "        connections_to_triplets[str(n).split(\" -> \")[0]] = str(n).split(\" -> \")[1]\n",
    "#        print(n,\" : \",f)"
   ]
  },
  {
   "cell_type": "code",
   "execution_count": null,
   "metadata": {
    "collapsed": false
   },
   "outputs": [],
   "source": [
    "str(list(connections_to_quads.keys())[0]).split(\" -> \")[0]"
   ]
  },
  {
   "cell_type": "code",
   "execution_count": null,
   "metadata": {
    "collapsed": false
   },
   "outputs": [],
   "source": [
    "connections_to_quads[\"(0, 5, 11, 22)\"]"
   ]
  },
  {
   "cell_type": "code",
   "execution_count": null,
   "metadata": {
    "collapsed": true
   },
   "outputs": [],
   "source": [
    "def get_corresponding_vertex(vertexs):\n",
    "    if len(vertexs)>3:\n",
    "        for i in itertools.permutations(vertexs):\n",
    "            if str(i) in connections_to_triplets.keys():\n",
    "                return connections_to_triplets[str(i)]\n",
    "    else:\n",
    "        return connections_to_quads[str(vertexs)]\n",
    "    "
   ]
  },
  {
   "cell_type": "code",
   "execution_count": null,
   "metadata": {
    "collapsed": false
   },
   "outputs": [],
   "source": [
    "get_corresponding_vertex((9, 2, 6))"
   ]
  },
  {
   "cell_type": "code",
   "execution_count": null,
   "metadata": {
    "collapsed": true
   },
   "outputs": [],
   "source": []
  },
  {
   "cell_type": "code",
   "execution_count": null,
   "metadata": {
    "collapsed": true
   },
   "outputs": [],
   "source": []
  },
  {
   "cell_type": "code",
   "execution_count": null,
   "metadata": {
    "collapsed": true
   },
   "outputs": [],
   "source": []
  }
 ],
 "metadata": {
  "anaconda-cloud": {},
  "kernelspec": {
   "display_name": "Python [Root]",
   "language": "python",
   "name": "Python [Root]"
  },
  "language_info": {
   "codemirror_mode": {
    "name": "ipython",
    "version": 3
   },
   "file_extension": ".py",
   "mimetype": "text/x-python",
   "name": "python",
   "nbconvert_exporter": "python",
   "pygments_lexer": "ipython3",
   "version": "3.5.2"
  }
 },
 "nbformat": 4,
 "nbformat_minor": 0
}
