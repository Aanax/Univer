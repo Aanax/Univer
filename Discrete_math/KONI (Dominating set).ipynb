{
 "cells": [
  {
   "cell_type": "code",
   "execution_count": 1,
   "metadata": {
    "collapsed": true
   },
   "outputs": [],
   "source": [
    "import copy"
   ]
  },
  {
   "cell_type": "code",
   "execution_count": 2,
   "metadata": {
    "collapsed": false
   },
   "outputs": [
    {
     "name": "stdout",
     "output_type": "stream",
     "text": [
      "5\n"
     ]
    }
   ],
   "source": [
    "n = int(input())"
   ]
  },
  {
   "cell_type": "code",
   "execution_count": 3,
   "metadata": {
    "collapsed": false
   },
   "outputs": [],
   "source": [
    "import numpy as np\n",
    "\n",
    "size = n\n",
    "#connect_mat=np.zeros((size,size))\n"
   ]
  },
  {
   "cell_type": "code",
   "execution_count": 4,
   "metadata": {
    "collapsed": false
   },
   "outputs": [
    {
     "name": "stdout",
     "output_type": "stream",
     "text": [
      "0;0\n",
      "0;1\n",
      "0;2\n",
      "0;3\n",
      "0;4\n",
      "1;0\n",
      "1;1\n",
      "1;2\n",
      "1;3\n",
      "1;4\n",
      "2;0\n",
      "2;1\n",
      "2;2\n",
      "2;3\n",
      "2;4\n",
      "3;0\n",
      "3;1\n",
      "3;2\n",
      "3;3\n",
      "3;4\n",
      "4;0\n",
      "4;1\n",
      "4;2\n",
      "4;3\n",
      "4;4\n"
     ]
    }
   ],
   "source": [
    "connection_dict={}\n",
    "for x in range(n):\n",
    "    for y in range(n):\n",
    "        connection_dict[(x,y)]=[(x,y)]\n",
    "for x in range(n):\n",
    "    for y in range(n):\n",
    "        print (str(x)+\";\"+str(y))\n",
    "        if x+1<size:\n",
    "            if y+2<size:\n",
    "                \n",
    "                connection_dict[(x+1,y+2)].append((x,y))\n",
    "                #connect_mat[x+1][y+2]=1.0\n",
    "            if y-2>=0:\n",
    "                #connect_mat[x+1][y-2]=1.0\n",
    "                connection_dict[(x+1,y-2)].append((x,y))\n",
    "        if x-1>=0:\n",
    "            if y+2<size:\n",
    "                #connect_mat[x-1][y+2]=1.0\n",
    "                connection_dict[(x-1,y+2)].append((x,y))\n",
    "            if y-2>=0:\n",
    "                #connect_mat[x-1][y-2]=1.0\n",
    "                connection_dict[(x-1,y-2)].append((x,y))\n",
    "        if x+2<size:\n",
    "            if y+1<size:\n",
    "                #connect_mat[x+2][y+1]=1.0\n",
    "                connection_dict[(x+2,y+1)].append((x,y))\n",
    "            if y-1>=0:\n",
    "                #connect_mat[x+2][y-1]=1.0\n",
    "                connection_dict[(x+2,y-1)].append((x,y))\n",
    "        if x-2>=0:\n",
    "            if y+1<size:\n",
    "                #connect_mat[x-2][y+1]=1.0\n",
    "                connection_dict[(x-2,y+1)].append((x,y))\n",
    "            if y-1>=0:\n",
    "                #connect_mat[x-2][y-1]=1.0\n",
    "                connection_dict[(x-2,y-1)].append((x,y))"
   ]
  },
  {
   "cell_type": "code",
   "execution_count": 5,
   "metadata": {
    "collapsed": false
   },
   "outputs": [
    {
     "data": {
      "text/plain": [
       "{(0, 0): [(0, 0), (1, 2), (2, 1)],\n",
       " (0, 1): [(0, 1), (1, 3), (2, 0), (2, 2)],\n",
       " (0, 2): [(0, 2), (1, 0), (1, 4), (2, 1), (2, 3)],\n",
       " (0, 3): [(0, 3), (1, 1), (2, 2), (2, 4)],\n",
       " (0, 4): [(0, 4), (1, 2), (2, 3)],\n",
       " (1, 0): [(1, 0), (0, 2), (2, 2), (3, 1)],\n",
       " (1, 1): [(1, 1), (0, 3), (2, 3), (3, 0), (3, 2)],\n",
       " (1, 2): [(1, 2), (0, 0), (0, 4), (2, 0), (2, 4), (3, 1), (3, 3)],\n",
       " (1, 3): [(1, 3), (0, 1), (2, 1), (3, 2), (3, 4)],\n",
       " (1, 4): [(1, 4), (0, 2), (2, 2), (3, 3)],\n",
       " (2, 0): [(2, 0), (0, 1), (1, 2), (3, 2), (4, 1)],\n",
       " (2, 1): [(2, 1), (0, 0), (0, 2), (1, 3), (3, 3), (4, 0), (4, 2)],\n",
       " (2, 2): [(2, 2),\n",
       "  (0, 1),\n",
       "  (0, 3),\n",
       "  (1, 0),\n",
       "  (1, 4),\n",
       "  (3, 0),\n",
       "  (3, 4),\n",
       "  (4, 1),\n",
       "  (4, 3)],\n",
       " (2, 3): [(2, 3), (0, 2), (0, 4), (1, 1), (3, 1), (4, 2), (4, 4)],\n",
       " (2, 4): [(2, 4), (0, 3), (1, 2), (3, 2), (4, 3)],\n",
       " (3, 0): [(3, 0), (1, 1), (2, 2), (4, 2)],\n",
       " (3, 1): [(3, 1), (1, 0), (1, 2), (2, 3), (4, 3)],\n",
       " (3, 2): [(3, 2), (1, 1), (1, 3), (2, 0), (2, 4), (4, 0), (4, 4)],\n",
       " (3, 3): [(3, 3), (1, 2), (1, 4), (2, 1), (4, 1)],\n",
       " (3, 4): [(3, 4), (1, 3), (2, 2), (4, 2)],\n",
       " (4, 0): [(4, 0), (2, 1), (3, 2)],\n",
       " (4, 1): [(4, 1), (2, 0), (2, 2), (3, 3)],\n",
       " (4, 2): [(4, 2), (2, 1), (2, 3), (3, 0), (3, 4)],\n",
       " (4, 3): [(4, 3), (2, 2), (2, 4), (3, 1)],\n",
       " (4, 4): [(4, 4), (2, 3), (3, 2)]}"
      ]
     },
     "execution_count": 5,
     "metadata": {},
     "output_type": "execute_result"
    }
   ],
   "source": [
    "connection_dict"
   ]
  },
  {
   "cell_type": "code",
   "execution_count": 6,
   "metadata": {
    "collapsed": true
   },
   "outputs": [],
   "source": [
    "answer_fin=[]"
   ]
  },
  {
   "cell_type": "code",
   "execution_count": 7,
   "metadata": {
    "collapsed": false
   },
   "outputs": [],
   "source": [
    "def vizhu_tsel_ne_vizhu_prepyatstviy(connection_dic,answer_fin):\n",
    "    #pp = pprint.PrettyPrinter(indent=4)\n",
    "    sets=[]\n",
    "    for x,X in connection_dic.items():\n",
    "        for x2, X2 in connection_dic.items():\n",
    "            if x!=x2:\n",
    "                if len(set(X))>=len(set(X2)):\n",
    "                    if len(set(X)-set(X2)) == len(set(X)) - len(set(X2)):\n",
    "                        #print(set(X2),\"-\",set(X))\n",
    "                        #print(\"FOUND PODMNOZHESTVO\")\n",
    "                        sets.append(x2)\n",
    "    for small in list(set(sets)):\n",
    "        connection_dic.pop(small)\n",
    "    \n",
    "    answer=[]\n",
    "    #sets=[]\n",
    "    for x,X in connection_dic.items():\n",
    "        for dot in X:\n",
    "            flag = 0\n",
    "            for watami, doing in connection_dic.items():\n",
    "                if flag >=1:\n",
    "                    break\n",
    "                if watami != x:\n",
    "                    if dot in doing:\n",
    "                        flag+=1\n",
    "            if flag==0:\n",
    "                #print(\"removing \",x)\n",
    "                #print(\"dot\",dot)\n",
    "                answer.append(x)\n",
    "                break\n",
    "                \n",
    "    answer_fin+=answer\n",
    "    for hanging in answer:\n",
    "        for x in connection_dic[hanging]:\n",
    "            for y,Y in connection_dic.items():\n",
    "                if hanging != y:\n",
    "                    if x in Y:\n",
    "                        #print(\"Del from \",y)\n",
    "                        connection_dic[y] = list(set(Y) - set([x]))    \n",
    "    for hanging in answer:\n",
    "        connection_dic.pop(hanging)\n",
    "    \n",
    "    no_con = []\n",
    "    for x in connection_dic.keys():\n",
    "        if len(connection_dic[x])==0:\n",
    "            #print(\"No connections\",x)\n",
    "            no_con.append(x)\n",
    "    \n",
    "    for x in no_con:\n",
    "        connection_dic.pop(x)\n",
    "            \n",
    "    if len(answer) == 0 and len(sets) == 0:\n",
    "        #print(\"CURRENT_return!====\")\n",
    "        #pp.pprint(connection_dic)\n",
    "        #print(\"=========\")\n",
    "        return\n",
    "    else:\n",
    "        #print(\"CURRENT!====\")\n",
    "        #pp.pprint(connection_dic)\n",
    "        #print(\"=========\")\n",
    "        vizhu_tsel_ne_vizhu_prepyatstviy(connection_dic,answer_fin)"
   ]
  },
  {
   "cell_type": "code",
   "execution_count": 8,
   "metadata": {
    "collapsed": false
   },
   "outputs": [],
   "source": [
    "tired = []\n",
    "vizhu_tsel_ne_vizhu_prepyatstviy(connection_dict,tired)"
   ]
  },
  {
   "cell_type": "code",
   "execution_count": 9,
   "metadata": {
    "collapsed": false
   },
   "outputs": [
    {
     "data": {
      "text/plain": [
       "[]"
      ]
     },
     "execution_count": 9,
     "metadata": {},
     "output_type": "execute_result"
    }
   ],
   "source": [
    "tired"
   ]
  },
  {
   "cell_type": "code",
   "execution_count": 10,
   "metadata": {
    "collapsed": false
   },
   "outputs": [
    {
     "data": {
      "text/plain": [
       "{(0, 0): [(0, 0), (1, 2), (2, 1)],\n",
       " (0, 1): [(0, 1), (1, 3), (2, 0), (2, 2)],\n",
       " (0, 2): [(0, 2), (1, 0), (1, 4), (2, 1), (2, 3)],\n",
       " (0, 3): [(0, 3), (1, 1), (2, 2), (2, 4)],\n",
       " (0, 4): [(0, 4), (1, 2), (2, 3)],\n",
       " (1, 0): [(1, 0), (0, 2), (2, 2), (3, 1)],\n",
       " (1, 1): [(1, 1), (0, 3), (2, 3), (3, 0), (3, 2)],\n",
       " (1, 2): [(1, 2), (0, 0), (0, 4), (2, 0), (2, 4), (3, 1), (3, 3)],\n",
       " (1, 3): [(1, 3), (0, 1), (2, 1), (3, 2), (3, 4)],\n",
       " (1, 4): [(1, 4), (0, 2), (2, 2), (3, 3)],\n",
       " (2, 0): [(2, 0), (0, 1), (1, 2), (3, 2), (4, 1)],\n",
       " (2, 1): [(2, 1), (0, 0), (0, 2), (1, 3), (3, 3), (4, 0), (4, 2)],\n",
       " (2, 2): [(2, 2),\n",
       "  (0, 1),\n",
       "  (0, 3),\n",
       "  (1, 0),\n",
       "  (1, 4),\n",
       "  (3, 0),\n",
       "  (3, 4),\n",
       "  (4, 1),\n",
       "  (4, 3)],\n",
       " (2, 3): [(2, 3), (0, 2), (0, 4), (1, 1), (3, 1), (4, 2), (4, 4)],\n",
       " (2, 4): [(2, 4), (0, 3), (1, 2), (3, 2), (4, 3)],\n",
       " (3, 0): [(3, 0), (1, 1), (2, 2), (4, 2)],\n",
       " (3, 1): [(3, 1), (1, 0), (1, 2), (2, 3), (4, 3)],\n",
       " (3, 2): [(3, 2), (1, 1), (1, 3), (2, 0), (2, 4), (4, 0), (4, 4)],\n",
       " (3, 3): [(3, 3), (1, 2), (1, 4), (2, 1), (4, 1)],\n",
       " (3, 4): [(3, 4), (1, 3), (2, 2), (4, 2)],\n",
       " (4, 0): [(4, 0), (2, 1), (3, 2)],\n",
       " (4, 1): [(4, 1), (2, 0), (2, 2), (3, 3)],\n",
       " (4, 2): [(4, 2), (2, 1), (2, 3), (3, 0), (3, 4)],\n",
       " (4, 3): [(4, 3), (2, 2), (2, 4), (3, 1)],\n",
       " (4, 4): [(4, 4), (2, 3), (3, 2)]}"
      ]
     },
     "execution_count": 10,
     "metadata": {},
     "output_type": "execute_result"
    }
   ],
   "source": [
    "connection_dict#[123] = [(3,3),(0,0)]"
   ]
  },
  {
   "cell_type": "code",
   "execution_count": 11,
   "metadata": {
    "collapsed": true
   },
   "outputs": [],
   "source": [
    "spiskolb=[] \n",
    "def kill_me_pls(curr_dict):\n",
    "    for xj in curr_dict.keys():\n",
    "        cop =copy.deepcopy(curr_dict)\n",
    "        hangs=[]\n",
    "        for x in cop[xj]:\n",
    "            for y,Y in cop.items():\n",
    "                if xj != y:\n",
    "                    if x in Y:\n",
    "                        #print(\"Del from \",y)\n",
    "                        cop[y] = list(set(Y) - set([x]))\n",
    "        cop.pop(xj)\n",
    "        \n",
    "        #print(cop)\n",
    "        #return\n",
    "        #print(\"XJ\",xj)\n",
    "        vizhu_tsel_ne_vizhu_prepyatstviy(cop,hangs)\n",
    "        if len(cop)==0:\n",
    "            spiskolb.append([xj]+hangs)\n",
    "        else:\n",
    "            #print(\"len\", len(cop))\n",
    "            prev_len = len(spiskolb)\n",
    "            kill_me_pls(cop) #edited spiskolb already\n",
    "            \n",
    "            for i in range(prev_len,len(spiskolb)):\n",
    "                spiskolb[i]+=[xj]+hangs #mistake - appends new x to previous (already ended)\n",
    "    return\n",
    "            "
   ]
  },
  {
   "cell_type": "code",
   "execution_count": 12,
   "metadata": {
    "collapsed": false
   },
   "outputs": [
    {
     "data": {
      "text/plain": [
       "True"
      ]
     },
     "execution_count": 12,
     "metadata": {},
     "output_type": "execute_result"
    }
   ],
   "source": [
    "set([(1,1),(2,1),(3,1)]) == set([(1,1),(3,1),(2,1)])"
   ]
  },
  {
   "cell_type": "code",
   "execution_count": 13,
   "metadata": {
    "collapsed": true
   },
   "outputs": [],
   "source": [
    "#import pprint\n",
    "#>>> stuff = ['spam', 'eggs', 'lumberjack', 'knights', 'ni']\n",
    "#>>> stuff.insert(0, stuff[:])\n",
    "#pp = pprint.PrettyPrinter(indent=4)"
   ]
  },
  {
   "cell_type": "code",
   "execution_count": null,
   "metadata": {
    "collapsed": false
   },
   "outputs": [],
   "source": [
    "kill_me_pls(connection_dict)"
   ]
  },
  {
   "cell_type": "code",
   "execution_count": null,
   "metadata": {
    "collapsed": false
   },
   "outputs": [],
   "source": []
  },
  {
   "cell_type": "code",
   "execution_count": 16,
   "metadata": {
    "collapsed": false
   },
   "outputs": [],
   "source": [
    "spiskolb.sort(key = len)"
   ]
  },
  {
   "cell_type": "code",
   "execution_count": 17,
   "metadata": {
    "collapsed": false
   },
   "outputs": [
    {
     "data": {
      "text/plain": [
       "[(0, 2), (2, 2), (3, 2), (1, 2)]"
      ]
     },
     "execution_count": 17,
     "metadata": {},
     "output_type": "execute_result"
    }
   ],
   "source": [
    "#set(spiskolb[-1])\n",
    "spiskolb[0] + tired"
   ]
  },
  {
   "cell_type": "code",
   "execution_count": 18,
   "metadata": {
    "collapsed": false
   },
   "outputs": [
    {
     "data": {
      "text/plain": [
       "[]"
      ]
     },
     "execution_count": 18,
     "metadata": {},
     "output_type": "execute_result"
    }
   ],
   "source": [
    "tired"
   ]
  },
  {
   "cell_type": "code",
   "execution_count": 18,
   "metadata": {
    "collapsed": false
   },
   "outputs": [
    {
     "ename": "NameError",
     "evalue": "name 'more_recursion' is not defined",
     "output_type": "error",
     "traceback": [
      "\u001b[1;31m---------------------------------------------------------------------------\u001b[0m",
      "\u001b[1;31mNameError\u001b[0m                                 Traceback (most recent call last)",
      "\u001b[1;32m<ipython-input-18-edb8db43820b>\u001b[0m in \u001b[0;36m<module>\u001b[1;34m()\u001b[0m\n\u001b[0;32m      2\u001b[0m \u001b[1;32mfor\u001b[0m \u001b[0mxj\u001b[0m \u001b[1;32min\u001b[0m \u001b[0mconnection_dict\u001b[0m\u001b[1;33m.\u001b[0m\u001b[0mkeys\u001b[0m\u001b[1;33m(\u001b[0m\u001b[1;33m)\u001b[0m\u001b[1;33m:\u001b[0m\u001b[1;33m\u001b[0m\u001b[0m\n\u001b[0;32m      3\u001b[0m     \u001b[0mdict_copy\u001b[0m \u001b[1;33m=\u001b[0m \u001b[0mcopy\u001b[0m\u001b[1;33m.\u001b[0m\u001b[0mdeepcopy\u001b[0m\u001b[1;33m(\u001b[0m\u001b[0mconnection_dict\u001b[0m\u001b[1;33m)\u001b[0m\u001b[1;33m\u001b[0m\u001b[0m\n\u001b[1;32m----> 4\u001b[1;33m     \u001b[0mto_compare\u001b[0m\u001b[1;33m.\u001b[0m\u001b[0mappend\u001b[0m\u001b[1;33m(\u001b[0m\u001b[0mmore_recursion\u001b[0m\u001b[1;33m(\u001b[0m\u001b[0mdict_copy\u001b[0m \u001b[1;33m,\u001b[0m \u001b[0mansj\u001b[0m\u001b[1;33m)\u001b[0m\u001b[1;33m)\u001b[0m\u001b[1;33m\u001b[0m\u001b[0m\n\u001b[0m\u001b[0;32m      5\u001b[0m \u001b[1;33m\u001b[0m\u001b[0m\n\u001b[0;32m      6\u001b[0m \u001b[1;32mdef\u001b[0m \u001b[0mmore_recursion\u001b[0m\u001b[1;33m(\u001b[0m\u001b[0mconnection_dict\u001b[0m\u001b[1;33m,\u001b[0m\u001b[0manswer_fin\u001b[0m\u001b[1;33m,\u001b[0m\u001b[0mall_ans\u001b[0m\u001b[1;33m)\u001b[0m\u001b[1;33m:\u001b[0m\u001b[1;33m\u001b[0m\u001b[0m\n",
      "\u001b[1;31mNameError\u001b[0m: name 'more_recursion' is not defined"
     ]
    }
   ],
   "source": [
    "to_compare =[]\n",
    "for xj in connection_dict.keys():\n",
    "    dict_copy = copy.deepcopy(connection_dict)\n",
    "    to_compare.append(more_recursion(dict_copy , ansj))\n",
    "    \n",
    "def more_recursion(connection_dict,answer_fin,all_ans):\n",
    "    vizhu_tsel_ne_vizhu_prepyatstviy(connection_dict,answer_fin)\n",
    "    if len(connection_dict) == 0:\n",
    "        #print(\"wow\")\n",
    "        #print(\"answer is\",answer_fin)\n",
    "        return answer_fin\n",
    "    else:\n",
    "        #all_ans =[]\n",
    "        for xj in connection_dict.keys():\n",
    "            dict_copy = copy.deepcopy(connection_dict)\n",
    "            #print(\"Amma not a fork bomb. Believe me\")\n",
    "            hang=[]\n",
    "            dict_copy.pop(xj)\n",
    "            answer_fin.append(xj)\n",
    "            hang = more_recursion(dict_copy , hang)\n",
    "            answer_fin.append(hang)\n",
    "            all_ans.append(answer_fin)\n",
    "        return answer_fin\n",
    "            #all_ansj+=ansj\n",
    "            #all_ans.append(all_ansj)\n",
    "        #all_ans.sort(key = len)\n",
    "        #return answer_fin + all_ans[0]\n",
    "            "
   ]
  },
  {
   "cell_type": "code",
   "execution_count": null,
   "metadata": {
    "collapsed": true
   },
   "outputs": [],
   "source": []
  },
  {
   "cell_type": "code",
   "execution_count": null,
   "metadata": {
    "collapsed": true
   },
   "outputs": [],
   "source": []
  }
 ],
 "metadata": {
  "kernelspec": {
   "display_name": "Python 3",
   "language": "python",
   "name": "python3"
  },
  "language_info": {
   "codemirror_mode": {
    "name": "ipython",
    "version": 3
   },
   "file_extension": ".py",
   "mimetype": "text/x-python",
   "name": "python",
   "nbconvert_exporter": "python",
   "pygments_lexer": "ipython3",
   "version": "3.5.2"
  }
 },
 "nbformat": 4,
 "nbformat_minor": 0
}
