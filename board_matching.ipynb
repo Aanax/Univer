{
 "cells": [
  {
   "cell_type": "code",
   "execution_count": 1,
   "metadata": {
    "collapsed": true
   },
   "outputs": [],
   "source": [
    "import cv2"
   ]
  },
  {
   "cell_type": "code",
   "execution_count": 2,
   "metadata": {
    "collapsed": true
   },
   "outputs": [],
   "source": [
    "import numpy as np"
   ]
  },
  {
   "cell_type": "code",
   "execution_count": 3,
   "metadata": {
    "collapsed": true
   },
   "outputs": [],
   "source": [
    "import scipy as sc"
   ]
  },
  {
   "cell_type": "code",
   "execution_count": 4,
   "metadata": {
    "collapsed": true
   },
   "outputs": [],
   "source": [
    "from scipy import misc"
   ]
  },
  {
   "cell_type": "code",
   "execution_count": 5,
   "metadata": {
    "collapsed": false
   },
   "outputs": [],
   "source": [
    "from matplotlib import pyplot as plt\n",
    "\n",
    "#'./parking.jpg'"
   ]
  },
  {
   "cell_type": "code",
   "execution_count": 178,
   "metadata": {
    "collapsed": true
   },
   "outputs": [],
   "source": [
    "def get_matched_box_corner(imname_to_search,imname_where_to_search,typ = 0,rotate=0,MIN_MATCH_COUNT = 10):\n",
    "    '''\n",
    "        type = 0 or 1 or 2 or 3(which coord of matched box to take)\n",
    "    '''\n",
    "\n",
    "    #img1 = cv2.imread('./shot_default.jpg',0)           # queryImage\n",
    "    #img2 = cv2.imread('./dice/shot1_5.jpg',0) # trainImage\n",
    "    #img1 = cv2.imread('./dice2.jpg',0)          # queryImage\n",
    "    #img2 = cv2.imread('./dice.jpg',0)# trainImage\n",
    "    #cv2.\n",
    "    img1 = cv2.imread(imname_to_search,0)          # queryImage\n",
    "    img2 = cv2.imread(imname_where_to_search,0)# trainImage\n",
    "\n",
    "    img2 = misc.imrotate(img2,rotate)\n",
    "\n",
    "    # Initiate SIFT detector\n",
    "    sift = cv2.xfeatures2d.SIFT_create()\n",
    "\n",
    "    # find the keypoints and descriptors with SIFT\n",
    "    kp1, des1 = sift.detectAndCompute(img1,None)\n",
    "    kp2, des2 = sift.detectAndCompute(img2,None)\n",
    "\n",
    "    FLANN_INDEX_KDTREE = 0\n",
    "    index_params = dict(algorithm = FLANN_INDEX_KDTREE, trees = 5)\n",
    "    search_params = dict(checks = 50)\n",
    "\n",
    "    flann = cv2.FlannBasedMatcher(index_params, search_params)\n",
    "\n",
    "    matches = flann.knnMatch(des1,des2,k=2)\n",
    "\n",
    "    # store all the good matches as per Lowe's ratio test.\n",
    "    good = []\n",
    "    for m,n in matches:\n",
    "        if m.distance < 0.7*n.distance:\n",
    "            good.append(m)\n",
    "    \n",
    "    print(\"Found \",len(good),\" matches\")\n",
    "    if len(good)>=MIN_MATCH_COUNT:\n",
    "        src_pts = np.float32([ kp1[m.queryIdx].pt for m in good ]).reshape(-1,1,2)\n",
    "        dst_pts = np.float32([ kp2[m.trainIdx].pt for m in good ]).reshape(-1,1,2)\n",
    "\n",
    "        M, mask = cv2.findHomography(src_pts, dst_pts, cv2.RANSAC,5.0)\n",
    "        matchesMask = mask.ravel().tolist()\n",
    "\n",
    "        h,w = img1.shape\n",
    "        pts = np.float32([ [0,0],[0,h-1],[w-1,h-1],[w-1,0] ]).reshape(-1,1,2)\n",
    "        dst = cv2.perspectiveTransform(pts,M)\n",
    "\n",
    "        #img2 = cv2.polylines(img2,[np.int32(dst)],True,255,3, cv2.LINE_AA)\n",
    "\n",
    "        #cornerdots.append(())\n",
    "\n",
    "    else:\n",
    "        print(\"Not enough matches are found - %d/%d\" % (len(good),MIN_MATCH_COUNT))\n",
    "        matchesMask = None\n",
    "        return 0\n",
    "    \n",
    "    \n",
    "    return tuple([dst[typ][0][0],dst[typ][0][1]])"
   ]
  },
  {
   "cell_type": "code",
   "execution_count": 139,
   "metadata": {
    "collapsed": true
   },
   "outputs": [],
   "source": [
    "def get_matched_drawing(imname_to_search,imname_where_to_search,MIN_MATCH_COUNT = 10):\n",
    "    '''\n",
    "        type = 0 or 1 or 2 or 3(which coord of matched box to take)\n",
    "    '''\n",
    "\n",
    "    #img1 = cv2.imread('./shot_default.jpg',0)           # queryImage\n",
    "    #img2 = cv2.imread('./dice/shot1_5.jpg',0) # trainImage\n",
    "    #img1 = cv2.imread('./dice2.jpg',0)          # queryImage\n",
    "    #img2 = cv2.imread('./dice.jpg',0)# trainImage\n",
    "    #cv2.\n",
    "    img1 = cv2.imread(imname_to_search,0)          # queryImage\n",
    "    img2 = cv2.imread(imname_where_to_search,0)# trainImage\n",
    "\n",
    "    #img2 = misc.imrotate(img2,10)\n",
    "\n",
    "    # Initiate SIFT detector\n",
    "    sift = cv2.xfeatures2d.SIFT_create()\n",
    "\n",
    "    # find the keypoints and descriptors with SIFT\n",
    "    kp1, des1 = sift.detectAndCompute(img1,None)\n",
    "    kp2, des2 = sift.detectAndCompute(img2,None)\n",
    "\n",
    "    FLANN_INDEX_KDTREE = 0\n",
    "    index_params = dict(algorithm = FLANN_INDEX_KDTREE, trees = 5)\n",
    "    search_params = dict(checks = 50)\n",
    "\n",
    "    flann = cv2.FlannBasedMatcher(index_params, search_params)\n",
    "\n",
    "    matches = flann.knnMatch(des1,des2,k=2)\n",
    "\n",
    "    # store all the good matches as per Lowe's ratio test.\n",
    "    good = []\n",
    "    for m,n in matches:\n",
    "        if m.distance < 0.7*n.distance:\n",
    "            good.append(m)\n",
    "    \n",
    "    print(\"Found \",good,\" matches\")\n",
    "    if len(good)>=MIN_MATCH_COUNT:\n",
    "        src_pts = np.float32([ kp1[m.queryIdx].pt for m in good ]).reshape(-1,1,2)\n",
    "        dst_pts = np.float32([ kp2[m.trainIdx].pt for m in good ]).reshape(-1,1,2)\n",
    "\n",
    "        M, mask = cv2.findHomography(src_pts, dst_pts, cv2.RANSAC,5.0)\n",
    "        matchesMask = mask.ravel().tolist()\n",
    "\n",
    "        h,w = img1.shape\n",
    "        pts = np.float32([ [0,0],[0,h-1],[w-1,h-1],[w-1,0] ]).reshape(-1,1,2)\n",
    "        dst = cv2.perspectiveTransform(pts,M)\n",
    "\n",
    "        #img2 = cv2.polylines(img2,[np.int32(dst)],True,255,3, cv2.LINE_AA)\n",
    "\n",
    "        #cornerdots.append(())\n",
    "\n",
    "    else:\n",
    "        print(\"Not enough matches are found - %d/%d\" % (len(good),MIN_MATCH_COUNT))\n",
    "        matchesMask = None\n",
    "        return (0)\n",
    "    \n",
    "    \n",
    "    draw_params = dict(matchColor = (0,255,0), # draw matches in green color\n",
    "                       singlePointColor = None,\n",
    "                       matchesMask = matchesMask, # draw only inliers\n",
    "                       flags = 2)\n",
    "\n",
    "    img3 = cv2.drawMatches(img1,kp1,img2,kp2,good,None,**draw_params)\n",
    "\n",
    "    plt.imshow(img3, 'gray'),plt.show()"
   ]
  },
  {
   "cell_type": "code",
   "execution_count": 15,
   "metadata": {
    "collapsed": false
   },
   "outputs": [
    {
     "ename": "error",
     "evalue": "/home/travis/miniconda/conda-bld/conda_1485299292920/work/opencv-3.2.0/modules/core/src/matmul.cpp:2271: error: (-215) scn + 1 == m.cols in function perspectiveTransform\n",
     "output_type": "error",
     "traceback": [
      "\u001b[1;31m---------------------------------------------------------------------------\u001b[0m",
      "\u001b[1;31merror\u001b[0m                                     Traceback (most recent call last)",
      "\u001b[1;32m<ipython-input-15-03902a540b60>\u001b[0m in \u001b[0;36m<module>\u001b[1;34m()\u001b[0m\n\u001b[1;32m----> 1\u001b[1;33m \u001b[0mget_matched_drawing\u001b[0m\u001b[1;33m(\u001b[0m\u001b[1;34m\"./dice_close.jpg\"\u001b[0m\u001b[1;33m,\u001b[0m\u001b[1;34m'./dice/shot3_5.jpg'\u001b[0m\u001b[1;33m,\u001b[0m\u001b[0mMIN_MATCH_COUNT\u001b[0m\u001b[1;33m=\u001b[0m\u001b[1;36m1\u001b[0m\u001b[1;33m)\u001b[0m\u001b[1;33m\u001b[0m\u001b[0m\n\u001b[0m",
      "\u001b[1;32m<ipython-input-7-174235d90dcc>\u001b[0m in \u001b[0;36mget_matched_drawing\u001b[1;34m(imname_to_search, imname_where_to_search, MIN_MATCH_COUNT)\u001b[0m\n\u001b[0;32m     45\u001b[0m         \u001b[0mh\u001b[0m\u001b[1;33m,\u001b[0m\u001b[0mw\u001b[0m \u001b[1;33m=\u001b[0m \u001b[0mimg1\u001b[0m\u001b[1;33m.\u001b[0m\u001b[0mshape\u001b[0m\u001b[1;33m\u001b[0m\u001b[0m\n\u001b[0;32m     46\u001b[0m         \u001b[0mpts\u001b[0m \u001b[1;33m=\u001b[0m \u001b[0mnp\u001b[0m\u001b[1;33m.\u001b[0m\u001b[0mfloat32\u001b[0m\u001b[1;33m(\u001b[0m\u001b[1;33m[\u001b[0m \u001b[1;33m[\u001b[0m\u001b[1;36m0\u001b[0m\u001b[1;33m,\u001b[0m\u001b[1;36m0\u001b[0m\u001b[1;33m]\u001b[0m\u001b[1;33m,\u001b[0m\u001b[1;33m[\u001b[0m\u001b[1;36m0\u001b[0m\u001b[1;33m,\u001b[0m\u001b[0mh\u001b[0m\u001b[1;33m-\u001b[0m\u001b[1;36m1\u001b[0m\u001b[1;33m]\u001b[0m\u001b[1;33m,\u001b[0m\u001b[1;33m[\u001b[0m\u001b[0mw\u001b[0m\u001b[1;33m-\u001b[0m\u001b[1;36m1\u001b[0m\u001b[1;33m,\u001b[0m\u001b[0mh\u001b[0m\u001b[1;33m-\u001b[0m\u001b[1;36m1\u001b[0m\u001b[1;33m]\u001b[0m\u001b[1;33m,\u001b[0m\u001b[1;33m[\u001b[0m\u001b[0mw\u001b[0m\u001b[1;33m-\u001b[0m\u001b[1;36m1\u001b[0m\u001b[1;33m,\u001b[0m\u001b[1;36m0\u001b[0m\u001b[1;33m]\u001b[0m \u001b[1;33m]\u001b[0m\u001b[1;33m)\u001b[0m\u001b[1;33m.\u001b[0m\u001b[0mreshape\u001b[0m\u001b[1;33m(\u001b[0m\u001b[1;33m-\u001b[0m\u001b[1;36m1\u001b[0m\u001b[1;33m,\u001b[0m\u001b[1;36m1\u001b[0m\u001b[1;33m,\u001b[0m\u001b[1;36m2\u001b[0m\u001b[1;33m)\u001b[0m\u001b[1;33m\u001b[0m\u001b[0m\n\u001b[1;32m---> 47\u001b[1;33m         \u001b[0mdst\u001b[0m \u001b[1;33m=\u001b[0m \u001b[0mcv2\u001b[0m\u001b[1;33m.\u001b[0m\u001b[0mperspectiveTransform\u001b[0m\u001b[1;33m(\u001b[0m\u001b[0mpts\u001b[0m\u001b[1;33m,\u001b[0m\u001b[0mM\u001b[0m\u001b[1;33m)\u001b[0m\u001b[1;33m\u001b[0m\u001b[0m\n\u001b[0m\u001b[0;32m     48\u001b[0m \u001b[1;33m\u001b[0m\u001b[0m\n\u001b[0;32m     49\u001b[0m         \u001b[1;31m#img2 = cv2.polylines(img2,[np.int32(dst)],True,255,3, cv2.LINE_AA)\u001b[0m\u001b[1;33m\u001b[0m\u001b[1;33m\u001b[0m\u001b[0m\n",
      "\u001b[1;31merror\u001b[0m: /home/travis/miniconda/conda-bld/conda_1485299292920/work/opencv-3.2.0/modules/core/src/matmul.cpp:2271: error: (-215) scn + 1 == m.cols in function perspectiveTransform\n"
     ]
    }
   ],
   "source": [
    "get_matched_drawing(\"./dice_close.jpg\",'./dice/shot3_5.jpg',MIN_MATCH_COUNT=1)"
   ]
  },
  {
   "cell_type": "code",
   "execution_count": 8,
   "metadata": {
    "collapsed": false
   },
   "outputs": [],
   "source": [
    "##Matching dice\n",
    "#for i in range(1,7):\n",
    " #   for j in range(1,8):\n",
    "#import os\n",
    "#for name in os.listdir('./dice/'):\n",
    "#    print(name)\n",
    "#    try:\n",
    "#        get_matched_drawing(\"./dice_close.jpg\",'./dice/'+name,MIN_MATCH_COUNT=1)\n",
    "#    except:\n",
    "#        print(\"watafak\")"
   ]
  },
  {
   "cell_type": "code",
   "execution_count": 9,
   "metadata": {
    "collapsed": false
   },
   "outputs": [],
   "source": [
    "#start_corner = tuple([dst[0][0][0],dst[0][0][1]])\n",
    "#jail_corner = tuple([dst[3][0][0],dst[3][0][1]])\n",
    "#judge_corner = tuple([dst[1][0][0],dst[1][0][1]])\n",
    "#parking_corner = tuple([dst[2][0][0],dst[2][0][1]])"
   ]
  },
  {
   "cell_type": "code",
   "execution_count": null,
   "metadata": {
    "collapsed": true
   },
   "outputs": [],
   "source": []
  },
  {
   "cell_type": "code",
   "execution_count": 10,
   "metadata": {
    "collapsed": false
   },
   "outputs": [],
   "source": [
    "#def draw_matching(matchesMask,img1...):\n",
    "#    draw_params = dict(matchColor = (0,255,0), # draw matches in green color\n",
    " #                      singlePointColor = None,\n",
    "  #                     matchesMask = matchesMask, # draw only inliers\n",
    "   #                    flags = 2)\n",
    "\n",
    "    #img3 = cv2.drawMatches(img1,kp1,img2,kp2,good,None,**draw_params)\n",
    "\n",
    "    #plt.imshow(img3, 'gray'),plt.show()"
   ]
  },
  {
   "cell_type": "code",
   "execution_count": null,
   "metadata": {
    "collapsed": true
   },
   "outputs": [],
   "source": []
  },
  {
   "cell_type": "code",
   "execution_count": 98,
   "metadata": {
    "collapsed": true
   },
   "outputs": [],
   "source": [
    "picname = \"./fields/shot40.jpg\""
   ]
  },
  {
   "cell_type": "code",
   "execution_count": 99,
   "metadata": {
    "collapsed": true
   },
   "outputs": [],
   "source": [
    "#http://www.pyimagesearch.com/2014/08/25/4-point-opencv-getperspective-transform-example/"
   ]
  },
  {
   "cell_type": "code",
   "execution_count": 100,
   "metadata": {
    "collapsed": true
   },
   "outputs": [],
   "source": [
    "# initialzie a list of coordinates that will be ordered\n",
    "# such that the first entry in the list is the top-left,\n",
    "# the second entry is the top-right, the third is the\n",
    "# bottom-right, and the fourth is the bottom-left"
   ]
  },
  {
   "cell_type": "code",
   "execution_count": 101,
   "metadata": {
    "collapsed": false
   },
   "outputs": [],
   "source": [
    "start_corner = get_matched_box_corner('start.jpg',picname,typ=0)\n",
    "judge_corner = get_matched_box_corner('judge.jpg',picname,typ=1)\n",
    "parking_corner = get_matched_box_corner('parking.jpg',picname,typ=2)\n",
    "jail_corner = get_matched_box_corner('jail.jpg',picname,typ=3)"
   ]
  },
  {
   "cell_type": "code",
   "execution_count": 102,
   "metadata": {
    "collapsed": true
   },
   "outputs": [],
   "source": [
    "pts = np.array([start_corner,jail_corner,parking_corner,judge_corner])"
   ]
  },
  {
   "cell_type": "code",
   "execution_count": null,
   "metadata": {
    "collapsed": true
   },
   "outputs": [],
   "source": []
  },
  {
   "cell_type": "code",
   "execution_count": 103,
   "metadata": {
    "collapsed": true
   },
   "outputs": [],
   "source": [
    "def four_point_transform(image, pts):\n",
    "    # obtain a consistent order of the points and unpack them\n",
    "    # individually\n",
    "    rect = pts#order_points(pts)\n",
    "    (tl, tr, br, bl) = rect\n",
    "\n",
    "    # compute the width of the new image, which will be the\n",
    "    # maximum distance between bottom-right and bottom-left\n",
    "    # x-coordiates or the top-right and top-left x-coordinates\n",
    "    widthA = np.sqrt(((br[0] - bl[0]) ** 2) + ((br[1] - bl[1]) ** 2))\n",
    "    widthB = np.sqrt(((tr[0] - tl[0]) ** 2) + ((tr[1] - tl[1]) ** 2))\n",
    "    maxWidth = max(int(widthA), int(widthB))\n",
    "\n",
    "    # compute the height of the new image, which will be the\n",
    "    # maximum distance between the top-right and bottom-right\n",
    "    # y-coordinates or the top-left and bottom-left y-coordinates\n",
    "    heightA = np.sqrt(((tr[0] - br[0]) ** 2) + ((tr[1] - br[1]) ** 2))\n",
    "    heightB = np.sqrt(((tl[0] - bl[0]) ** 2) + ((tl[1] - bl[1]) ** 2))\n",
    "    maxHeight = max(int(heightA), int(heightB))\n",
    "\n",
    "    # now that we have the dimensions of the new image, construct\n",
    "    # the set of destination points to obtain a \"birds eye view\",\n",
    "    # (i.e. top-down view) of the image, again specifying points\n",
    "    # in the top-left, top-right, bottom-right, and bottom-left\n",
    "    # order\n",
    "    dst = np.array([\n",
    "        [0, 0],\n",
    "        [maxWidth - 1, 0],\n",
    "        [maxWidth - 1, maxHeight - 1],\n",
    "        [0, maxHeight - 1]], dtype = \"float32\")\n",
    "\n",
    "    # compute the perspective transform matrix and then apply it\n",
    "    M = cv2.getPerspectiveTransform(rect, dst)\n",
    "    warped = cv2.warpPerspective(image, M, (maxWidth, maxHeight))\n",
    "\n",
    "    # return the warped image\n",
    "    return warped"
   ]
  },
  {
   "cell_type": "code",
   "execution_count": 104,
   "metadata": {
    "collapsed": true
   },
   "outputs": [],
   "source": [
    "img2 = cv2.imread(picname)"
   ]
  },
  {
   "cell_type": "code",
   "execution_count": 105,
   "metadata": {
    "collapsed": false
   },
   "outputs": [],
   "source": [
    "wow_img = four_point_transform(img2,pts)"
   ]
  },
  {
   "cell_type": "code",
   "execution_count": 106,
   "metadata": {
    "collapsed": false
   },
   "outputs": [
    {
     "data": {
      "text/plain": [
       "255"
      ]
     },
     "execution_count": 106,
     "metadata": {},
     "output_type": "execute_result"
    }
   ],
   "source": [
    "cv2.imshow(\"ww\",wow_img)\n",
    "cv2.waitKey(0)"
   ]
  },
  {
   "cell_type": "code",
   "execution_count": 97,
   "metadata": {
    "collapsed": false
   },
   "outputs": [
    {
     "data": {
      "text/plain": [
       "255"
      ]
     },
     "execution_count": 97,
     "metadata": {},
     "output_type": "execute_result"
    }
   ],
   "source": [
    "cv2.imshow(\"ww\",img2)\n",
    "cv2.waitKey(0)"
   ]
  },
  {
   "cell_type": "code",
   "execution_count": 196,
   "metadata": {
    "collapsed": true
   },
   "outputs": [],
   "source": [
    "def get_aligned_field(picname,draw=False):\n",
    "    #try:\n",
    "    start_corner = get_matched_box_corner('start.jpg',picname,typ=0,MIN_MATCH_COUNT=7)\n",
    "    judge_corner = get_matched_box_corner('judge.jpg',picname,typ=1,MIN_MATCH_COUNT=7)\n",
    "    parking_corner = get_matched_box_corner('parking.jpg',picname,typ=2,MIN_MATCH_COUNT=7)\n",
    "    jail_corner = get_matched_box_corner('jail.jpg',picname,typ=3,MIN_MATCH_COUNT=7)\n",
    "\n",
    "    corners_list = [start_corner,jail_corner,parking_corner,judge_corner]\n",
    "\n",
    "    #start_bad = False\n",
    "    #judge_bad = False\n",
    "    #parking_bad = False\n",
    "    #jail_bad = False\n",
    "\n",
    "    #if type(start_corner)==int:\n",
    "    #    start_bad = True\n",
    "    #if type(judge_corner)==int:\n",
    "    #    judge_bad = True\n",
    "    #if type(parking_corner)==int:\n",
    "    #    parking_bad = True\n",
    "    #if type(jail_corner)==int:\n",
    "    #    jail_bad = True\n",
    "\n",
    "\n",
    "    bads = []\n",
    "    for test_corner in range(len(corners_list)):\n",
    "        if type(corners_list[test_corner]) == int:\n",
    "            bads.append(test_corner)\n",
    "\n",
    "    #if int(start_bad+jail_bad+parking_bad+judge_bad) == 1:\n",
    "    if len(bads) == 1:\n",
    "        if bads[0] == 0:\n",
    "            #no top-left\n",
    "            #height = abs(jail_corner[1] - parking_corner[1])\n",
    "            #print(\"he\",height)\n",
    "            #width = abs(parking_corner[0] - judge_corner[0])\n",
    "            #print(\"wi\",width)\n",
    "            start_corner = [0,0]\n",
    "            #start_corner[1] = judge_corner[1] + height\n",
    "            #start_corner[0] = jail_corner[0] - width\n",
    "            start_corner[0] = judge_corner[0] + (jail_corner[0] - parking_corner[0]) \n",
    "            start_corner[1] = judge_corner[1] + (jail_corner[1] - parking_corner[1])\n",
    "            #print(\"LIST\",corners_list)\n",
    "            #print(\"Star\",start_corner)\n",
    "        if bads[0] == 1:\n",
    "            #no top-left\n",
    "            #height = abs(jail_corner[1] - parking_corner[1])\n",
    "            #print(\"he\",height)\n",
    "            #width = abs(parking_corner[0] - judge_corner[0])\n",
    "            #print(\"wi\",width)\n",
    "            jail_corner = [0,0]\n",
    "            #start_corner[1] = judge_corner[1] + height\n",
    "            #start_corner[0] = jail_corner[0] - width\n",
    "            jail_corner[0] = parking_corner[0] + (start_corner[0] - judge_corner[0]) \n",
    "            jail_corner[1] = parking_corner[1] + (start_corner[1] - judge_corner[1])\n",
    "            #print(\"LIST\",corners_list)\n",
    "            #print(\"Star\",start_corner)\n",
    "        if bads[0] == 2:\n",
    "            #no top-left\n",
    "            #height = abs(jail_corner[1] - parking_corner[1])\n",
    "            #print(\"he\",height)\n",
    "            #width = abs(parking_corner[0] - judge_corner[0])\n",
    "            #print(\"wi\",width)\n",
    "            parking_corner = [0,0]\n",
    "            #start_corner[1] = judge_corner[1] + height\n",
    "            #start_corner[0] = jail_corner[0] - width\n",
    "            parking_corner[0] = jail_corner[0] + (judge_corner[0] - start_corner[0]) \n",
    "            parking_corner[1] = jail_corner[1] + (judge_corner[1] - start_corner[1])\n",
    "            #print(\"LIST\",corners_list)\n",
    "            #print(\"Star\",start_corner)\n",
    "        if bads[0] == 3:\n",
    "            #no top-left\n",
    "            #height = abs(jail_corner[1] - parking_corner[1])\n",
    "            #print(\"he\",height)\n",
    "            #width = abs(parking_corner[0] - judge_corner[0])\n",
    "            #print(\"wi\",width)\n",
    "            judge_corner = [0,0]\n",
    "            #start_corner[1] = judge_corner[1] + height\n",
    "            #start_corner[0] = jail_corner[0] - width\n",
    "            judge_corner[0] = start_corner[0] + (parking_corner[0] - jail_corner[0]) \n",
    "            judge_corner[1] = start_corner[1] + (parking_corner[1] - jail_corner[1])\n",
    "            #print(\"LIST\",corners_list)\n",
    "            #print(\"Star\",start_corner)\n",
    "\n",
    "\n",
    "\n",
    "    pts = np.array([start_corner,jail_corner,parking_corner,judge_corner])\n",
    "\n",
    "    img2 = cv2.imread(picname)\n",
    "\n",
    "    wow_img = four_point_transform(img2,pts)\n",
    "\n",
    "    if draw:\n",
    "        cv2.imshow(\"ww\",wow_img)\n",
    "        cv2.waitKey(0)\n",
    "    return wow_img\n",
    "    #except:\n",
    "     #   return 1"
   ]
  },
  {
   "cell_type": "code",
   "execution_count": 109,
   "metadata": {
    "collapsed": true
   },
   "outputs": [],
   "source": [
    "import os"
   ]
  },
  {
   "cell_type": "code",
   "execution_count": null,
   "metadata": {
    "collapsed": false
   },
   "outputs": [],
   "source": [
    "folder=\"./fields/\"\n",
    "ok = 0\n",
    "total = 0\n",
    "for name in os.listdir(folder):\n",
    "    result = get_aligned_field(folder+name)\n",
    "    if type(result)!=int:\n",
    "        ok += 1\n",
    "    else:\n",
    "        print(name)\n",
    "    total+=1"
   ]
  },
  {
   "cell_type": "code",
   "execution_count": 165,
   "metadata": {
    "collapsed": false
   },
   "outputs": [
    {
     "name": "stdout",
     "output_type": "stream",
     "text": [
      "Acc: 0.84\n"
     ]
    }
   ],
   "source": [
    "print(\"Acc:\",ok/total)"
   ]
  },
  {
   "cell_type": "code",
   "execution_count": 206,
   "metadata": {
    "collapsed": false
   },
   "outputs": [
    {
     "name": "stdout",
     "output_type": "stream",
     "text": [
      "Found  75  matches\n",
      "Found  2  matches\n",
      "Not enough matches are found - 2/7\n",
      "Found  18  matches\n",
      "Found  8  matches\n"
     ]
    }
   ],
   "source": [
    "pic = get_aligned_field(folder+\"shot2.jpg\")"
   ]
  },
  {
   "cell_type": "code",
   "execution_count": 137,
   "metadata": {
    "collapsed": true
   },
   "outputs": [],
   "source": [
    "import matplotlib.pyplot as plt"
   ]
  },
  {
   "cell_type": "code",
   "execution_count": 198,
   "metadata": {
    "collapsed": false
   },
   "outputs": [
    {
     "data": {
      "text/plain": [
       "numpy.ndarray"
      ]
     },
     "execution_count": 198,
     "metadata": {},
     "output_type": "execute_result"
    }
   ],
   "source": [
    "type(pic)"
   ]
  },
  {
   "cell_type": "code",
   "execution_count": 207,
   "metadata": {
    "collapsed": false
   },
   "outputs": [
    {
     "data": {
      "image/png": "[encoded data removed]",
      "text/plain": [
       "<matplotlib.figure.Figure at 0x7f47f8a5b2e8>"
      ]
     },
     "metadata": {},
     "output_type": "display_data"
    },
    {
     "data": {
      "text/plain": [
       "(<matplotlib.image.AxesImage at 0x7f47f89eacf8>, None)"
      ]
     },
     "execution_count": 207,
     "metadata": {},
     "output_type": "execute_result"
    }
   ],
   "source": [
    "plt.imshow(pic),plt.show()"
   ]
  },
  {
   "cell_type": "code",
   "execution_count": 168,
   "metadata": {
    "collapsed": true
   },
   "outputs": [],
   "source": [
    "%matplotlib inline"
   ]
  },
  {
   "cell_type": "code",
   "execution_count": null,
   "metadata": {
    "collapsed": true
   },
   "outputs": [],
   "source": [
    "# if one is bad then try to use 3"
   ]
  }
 ],
 "metadata": {
  "kernelspec": {
   "display_name": "Python 3",
   "language": "python",
   "name": "python3"
  },
  "language_info": {
   "codemirror_mode": {
    "name": "ipython",
    "version": 3
   },
   "file_extension": ".py",
   "mimetype": "text/x-python",
   "name": "python",
   "nbconvert_exporter": "python",
   "pygments_lexer": "ipython3",
   "version": "3.5.2"
  }
 },
 "nbformat": 4,
 "nbformat_minor": 0
}
